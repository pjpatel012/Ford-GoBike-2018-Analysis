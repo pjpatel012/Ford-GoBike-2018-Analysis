{
 "cells": [
  {
   "cell_type": "markdown",
   "metadata": {
    "slideshow": {
     "slide_type": "slide"
    }
   },
   "source": [
    "## Project - Ford GoBike 2018 Analysis"
   ]
  },
  {
   "cell_type": "markdown",
   "metadata": {
    "slideshow": {
     "slide_type": "skip"
    }
   },
   "source": [
    "### Table of Contents ###\n",
    "<ul>\n",
    "<li><a href=\"#Project Overview\">Project Overview</a></li>\n",
    "<li><a href=\"#Data Overview\">Data Overview</a></li>\n",
    "<li><a href=\"#Data Wrangling\">Data Wrangling</a></li>\n",
    "<li><a href=\"#EDA1\">Explanatory Data Analysis</a></li>\n",
    "<li><a href=\"#Results\">Results & Discussion</a></li>\n",
    "<li><a href=\"#Conclusion\">Conclusion</a></li>\n",
    "</ul>"
   ]
  },
  {
   "cell_type": "markdown",
   "metadata": {
    "slideshow": {
     "slide_type": "slide"
    }
   },
   "source": [
    "<a id='Project Overview'></a>\n",
    "### Project Overview\n",
    "\n",
    "**The purpose of this project is to analyze a compilation of Ford Go-Bike's system data. Ford Go-Bike is a bike sharing service located in San Francisco, allowing easy access for transportation around the Bay Area. The project will focus on exploratory and explanatory data analysis by creating visualizations to understand the relationships between the key features and metrics collected by Ford Go-Bike.**"
   ]
  },
  {
   "cell_type": "markdown",
   "metadata": {
    "slideshow": {
     "slide_type": "slide"
    }
   },
   "source": [
    "<a id='Data Overview'></a>\n",
    "### Data Overview\n",
    "\n",
    "**Ford Go-Bike offers public-use of their system data dating back to 2017. The following analysis covers all of the data collected over the 2018 year. 12 csv files (January-December) were downnloaded and concatenated into one main dataframe.**\n",
    "\n",
    "**The following 15 features are collected by Ford Go-Bike: Trip Duration, Start Time and Date, End Time and Date, Start Station ID, Start Station Name, Start Station Latitude, Start Station Longitude, End Station ID, End Station Name, End Station Latitude, End Station Longitude, Bike ID, User Type, Member Year of Birth, and Member Gender.**"
   ]
  },
  {
   "cell_type": "markdown",
   "metadata": {
    "slideshow": {
     "slide_type": "slide"
    }
   },
   "source": [
    "<a id='Data Wrangling'></a>\n",
    "### Data Wrangling\n",
    "\n",
    "**The 2018 dataset consists of over 1.8 million rows.**"
   ]
  },
  {
   "cell_type": "markdown",
   "metadata": {
    "slideshow": {
     "slide_type": "skip"
    }
   },
   "source": [
    "**Import necessary libraries.**"
   ]
  },
  {
   "cell_type": "code",
   "execution_count": 1,
   "metadata": {
    "slideshow": {
     "slide_type": "skip"
    }
   },
   "outputs": [],
   "source": [
    "# Pythons Statistal Libraries\n",
    "import pandas as pd\n",
    "import numpy as np\n",
    "from scipy.stats import norm\n",
    "\n",
    "# Pythons Visuals Libraries\n",
    "import matplotlib.pyplot as plt\n",
    "from matplotlib import rcParams\n",
    "%matplotlib inline\n",
    "import seaborn as sb\n",
    "\n",
    "# Other Libraries used\n",
    "import glob, os\n",
    "from geopy.distance import geodesic"
   ]
  },
  {
   "cell_type": "code",
   "execution_count": 2,
   "metadata": {
    "scrolled": false,
    "slideshow": {
     "slide_type": "skip"
    }
   },
   "outputs": [
    {
     "data": {
      "text/html": [
       "<div>\n",
       "<style scoped>\n",
       "    .dataframe tbody tr th:only-of-type {\n",
       "        vertical-align: middle;\n",
       "    }\n",
       "\n",
       "    .dataframe tbody tr th {\n",
       "        vertical-align: top;\n",
       "    }\n",
       "\n",
       "    .dataframe thead th {\n",
       "        text-align: right;\n",
       "    }\n",
       "</style>\n",
       "<table border=\"1\" class=\"dataframe\">\n",
       "  <thead>\n",
       "    <tr style=\"text-align: right;\">\n",
       "      <th></th>\n",
       "      <th>duration_sec</th>\n",
       "      <th>start_time</th>\n",
       "      <th>end_time</th>\n",
       "      <th>start_station_id</th>\n",
       "      <th>start_station_name</th>\n",
       "      <th>start_station_latitude</th>\n",
       "      <th>start_station_longitude</th>\n",
       "      <th>end_station_id</th>\n",
       "      <th>end_station_name</th>\n",
       "      <th>end_station_latitude</th>\n",
       "      <th>end_station_longitude</th>\n",
       "      <th>bike_id</th>\n",
       "      <th>user_type</th>\n",
       "      <th>member_birth_year</th>\n",
       "      <th>member_gender</th>\n",
       "      <th>bike_share_for_all_trip</th>\n",
       "    </tr>\n",
       "  </thead>\n",
       "  <tbody>\n",
       "    <tr>\n",
       "      <th>0</th>\n",
       "      <td>79489</td>\n",
       "      <td>11/30/18 13:40</td>\n",
       "      <td>12/1/18 11:45</td>\n",
       "      <td>NaN</td>\n",
       "      <td>NaN</td>\n",
       "      <td>37.420000</td>\n",
       "      <td>-121.940000</td>\n",
       "      <td>NaN</td>\n",
       "      <td>NaN</td>\n",
       "      <td>37.410000</td>\n",
       "      <td>-121.940000</td>\n",
       "      <td>4105</td>\n",
       "      <td>Customer</td>\n",
       "      <td>1982.0</td>\n",
       "      <td>Female</td>\n",
       "      <td>No</td>\n",
       "    </tr>\n",
       "    <tr>\n",
       "      <th>1</th>\n",
       "      <td>42847</td>\n",
       "      <td>11/30/18 20:13</td>\n",
       "      <td>12/1/18 8:07</td>\n",
       "      <td>37.0</td>\n",
       "      <td>2nd St at Folsom St</td>\n",
       "      <td>37.785000</td>\n",
       "      <td>-122.395936</td>\n",
       "      <td>30.0</td>\n",
       "      <td>San Francisco Caltrain (Townsend St at 4th St)</td>\n",
       "      <td>37.776598</td>\n",
       "      <td>-122.395282</td>\n",
       "      <td>2614</td>\n",
       "      <td>Customer</td>\n",
       "      <td>1992.0</td>\n",
       "      <td>Male</td>\n",
       "      <td>No</td>\n",
       "    </tr>\n",
       "    <tr>\n",
       "      <th>2</th>\n",
       "      <td>1128</td>\n",
       "      <td>11/30/18 23:58</td>\n",
       "      <td>12/1/18 0:17</td>\n",
       "      <td>249.0</td>\n",
       "      <td>Russell St at College Ave</td>\n",
       "      <td>37.858473</td>\n",
       "      <td>-122.253253</td>\n",
       "      <td>249.0</td>\n",
       "      <td>Russell St at College Ave</td>\n",
       "      <td>37.858473</td>\n",
       "      <td>-122.253253</td>\n",
       "      <td>1496</td>\n",
       "      <td>Subscriber</td>\n",
       "      <td>1998.0</td>\n",
       "      <td>Male</td>\n",
       "      <td>Yes</td>\n",
       "    </tr>\n",
       "    <tr>\n",
       "      <th>3</th>\n",
       "      <td>2476</td>\n",
       "      <td>11/30/18 23:35</td>\n",
       "      <td>12/1/18 0:16</td>\n",
       "      <td>104.0</td>\n",
       "      <td>4th St at 16th St</td>\n",
       "      <td>37.767045</td>\n",
       "      <td>-122.390833</td>\n",
       "      <td>15.0</td>\n",
       "      <td>San Francisco Ferry Building (Harry Bridges Pl...</td>\n",
       "      <td>37.795392</td>\n",
       "      <td>-122.394203</td>\n",
       "      <td>1334</td>\n",
       "      <td>Subscriber</td>\n",
       "      <td>1959.0</td>\n",
       "      <td>Male</td>\n",
       "      <td>No</td>\n",
       "    </tr>\n",
       "    <tr>\n",
       "      <th>4</th>\n",
       "      <td>1273</td>\n",
       "      <td>11/30/18 23:54</td>\n",
       "      <td>12/1/18 0:15</td>\n",
       "      <td>44.0</td>\n",
       "      <td>Civic Center/UN Plaza BART Station (Market St ...</td>\n",
       "      <td>37.781074</td>\n",
       "      <td>-122.411738</td>\n",
       "      <td>60.0</td>\n",
       "      <td>8th St at Ringold St</td>\n",
       "      <td>37.774520</td>\n",
       "      <td>-122.409449</td>\n",
       "      <td>393</td>\n",
       "      <td>Subscriber</td>\n",
       "      <td>1993.0</td>\n",
       "      <td>Female</td>\n",
       "      <td>Yes</td>\n",
       "    </tr>\n",
       "  </tbody>\n",
       "</table>\n",
       "</div>"
      ],
      "text/plain": [
       "   duration_sec      start_time       end_time  start_station_id  \\\n",
       "0         79489  11/30/18 13:40  12/1/18 11:45               NaN   \n",
       "1         42847  11/30/18 20:13   12/1/18 8:07              37.0   \n",
       "2          1128  11/30/18 23:58   12/1/18 0:17             249.0   \n",
       "3          2476  11/30/18 23:35   12/1/18 0:16             104.0   \n",
       "4          1273  11/30/18 23:54   12/1/18 0:15              44.0   \n",
       "\n",
       "                                  start_station_name  start_station_latitude  \\\n",
       "0                                                NaN               37.420000   \n",
       "1                                2nd St at Folsom St               37.785000   \n",
       "2                          Russell St at College Ave               37.858473   \n",
       "3                                  4th St at 16th St               37.767045   \n",
       "4  Civic Center/UN Plaza BART Station (Market St ...               37.781074   \n",
       "\n",
       "   start_station_longitude  end_station_id  \\\n",
       "0              -121.940000             NaN   \n",
       "1              -122.395936            30.0   \n",
       "2              -122.253253           249.0   \n",
       "3              -122.390833            15.0   \n",
       "4              -122.411738            60.0   \n",
       "\n",
       "                                    end_station_name  end_station_latitude  \\\n",
       "0                                                NaN             37.410000   \n",
       "1     San Francisco Caltrain (Townsend St at 4th St)             37.776598   \n",
       "2                          Russell St at College Ave             37.858473   \n",
       "3  San Francisco Ferry Building (Harry Bridges Pl...             37.795392   \n",
       "4                               8th St at Ringold St             37.774520   \n",
       "\n",
       "   end_station_longitude  bike_id   user_type  member_birth_year  \\\n",
       "0            -121.940000     4105    Customer             1982.0   \n",
       "1            -122.395282     2614    Customer             1992.0   \n",
       "2            -122.253253     1496  Subscriber             1998.0   \n",
       "3            -122.394203     1334  Subscriber             1959.0   \n",
       "4            -122.409449      393  Subscriber             1993.0   \n",
       "\n",
       "  member_gender bike_share_for_all_trip  \n",
       "0        Female                      No  \n",
       "1          Male                      No  \n",
       "2          Male                     Yes  \n",
       "3          Male                      No  \n",
       "4        Female                     Yes  "
      ]
     },
     "execution_count": 2,
     "metadata": {},
     "output_type": "execute_result"
    }
   ],
   "source": [
    "# Concatenate 12 monthly files for 2018\n",
    "path = r'/Users/paraspatel/Desktop/Ford GoBike/2018 Data' # ENTER UNIQUE PATHWAY HERE\n",
    "os.chdir(path)\n",
    "files = glob.glob(\"*.csv\")\n",
    "df = pd.concat(pd.read_csv(f,header=0) for f in files)\n",
    "df.head()"
   ]
  },
  {
   "cell_type": "code",
   "execution_count": 3,
   "metadata": {
    "slideshow": {
     "slide_type": "skip"
    }
   },
   "outputs": [],
   "source": [
    "# Copy original dataframe\n",
    "df_copy = df.copy()"
   ]
  },
  {
   "cell_type": "code",
   "execution_count": 4,
   "metadata": {
    "slideshow": {
     "slide_type": "skip"
    }
   },
   "outputs": [
    {
     "name": "stdout",
     "output_type": "stream",
     "text": [
      "(1863721, 16) \n",
      "\n",
      "<class 'pandas.core.frame.DataFrame'>\n",
      "Int64Index: 1863721 entries, 0 to 131168\n",
      "Data columns (total 16 columns):\n",
      "duration_sec               int64\n",
      "start_time                 object\n",
      "end_time                   object\n",
      "start_station_id           float64\n",
      "start_station_name         object\n",
      "start_station_latitude     float64\n",
      "start_station_longitude    float64\n",
      "end_station_id             float64\n",
      "end_station_name           object\n",
      "end_station_latitude       float64\n",
      "end_station_longitude      float64\n",
      "bike_id                    int64\n",
      "user_type                  object\n",
      "member_birth_year          float64\n",
      "member_gender              object\n",
      "bike_share_for_all_trip    object\n",
      "dtypes: float64(7), int64(2), object(7)\n",
      "memory usage: 241.7+ MB\n",
      "None \n",
      "\n"
     ]
    }
   ],
   "source": [
    "# Examine dataset features\n",
    "print(df.shape,'\\n')\n",
    "print(df.info(),'\\n')"
   ]
  },
  {
   "cell_type": "code",
   "execution_count": 5,
   "metadata": {
    "scrolled": true,
    "slideshow": {
     "slide_type": "skip"
    }
   },
   "outputs": [
    {
     "data": {
      "text/plain": [
       "duration_sec                    0\n",
       "start_time                      0\n",
       "end_time                        0\n",
       "start_station_id            11771\n",
       "start_station_name          11771\n",
       "start_station_latitude          0\n",
       "start_station_longitude         0\n",
       "end_station_id              11771\n",
       "end_station_name            11771\n",
       "end_station_latitude            0\n",
       "end_station_longitude           0\n",
       "bike_id                         0\n",
       "user_type                       0\n",
       "member_birth_year          110718\n",
       "member_gender              110367\n",
       "bike_share_for_all_trip         0\n",
       "dtype: int64"
      ]
     },
     "execution_count": 5,
     "metadata": {},
     "output_type": "execute_result"
    }
   ],
   "source": [
    "# Check if null values exist\n",
    "df.isnull().sum()"
   ]
  },
  {
   "cell_type": "code",
   "execution_count": 6,
   "metadata": {
    "slideshow": {
     "slide_type": "skip"
    }
   },
   "outputs": [],
   "source": [
    "# Convert time columns to Date-Time\n",
    "df['start_time'] = pd.to_datetime(df['start_time'])\n",
    "df['end_time'] = pd.to_datetime(df['end_time'])"
   ]
  },
  {
   "cell_type": "code",
   "execution_count": 8,
   "metadata": {
    "slideshow": {
     "slide_type": "skip"
    }
   },
   "outputs": [],
   "source": [
    "# Bin each trip by week for analysis \n",
    "df['Week'] = df['start_time'].dt.week"
   ]
  },
  {
   "cell_type": "code",
   "execution_count": 9,
   "metadata": {
    "slideshow": {
     "slide_type": "skip"
    }
   },
   "outputs": [
    {
     "data": {
      "text/plain": [
       "0"
      ]
     },
     "execution_count": 9,
     "metadata": {},
     "output_type": "execute_result"
    }
   ],
   "source": [
    "# Check DataFrame for duplicated rows\n",
    "df.duplicated().sum()"
   ]
  },
  {
   "cell_type": "markdown",
   "metadata": {
    "slideshow": {
     "slide_type": "skip"
    }
   },
   "source": [
    "**Columns converted to string. We'll leave two columns ('start_station_id' and 'bike_id') as an integer type in order to perform null analysis. Unnecessary columns will be dropped.**"
   ]
  },
  {
   "cell_type": "code",
   "execution_count": 10,
   "metadata": {
    "slideshow": {
     "slide_type": "skip"
    }
   },
   "outputs": [],
   "source": [
    "df['member_birth_year'] = df['member_birth_year'].astype(pd.Int64Dtype())\n",
    "\n",
    "df['end_station_id'] = df['end_station_id'].astype(pd.Int64Dtype())\n",
    "df['end_station_id'] = df['end_station_id'].astype(str)"
   ]
  },
  {
   "cell_type": "code",
   "execution_count": 11,
   "metadata": {
    "slideshow": {
     "slide_type": "skip"
    }
   },
   "outputs": [
    {
     "name": "stdout",
     "output_type": "stream",
     "text": [
      "<class 'pandas.core.frame.DataFrame'>\n",
      "Int64Index: 1863721 entries, 0 to 131168\n",
      "Data columns (total 17 columns):\n",
      "duration_sec               int64\n",
      "start_time                 datetime64[ns]\n",
      "end_time                   datetime64[ns]\n",
      "start_station_id           float64\n",
      "start_station_name         object\n",
      "start_station_latitude     float64\n",
      "start_station_longitude    float64\n",
      "end_station_id             object\n",
      "end_station_name           object\n",
      "end_station_latitude       float64\n",
      "end_station_longitude      float64\n",
      "bike_id                    int64\n",
      "user_type                  object\n",
      "member_birth_year          Int64\n",
      "member_gender              object\n",
      "bike_share_for_all_trip    object\n",
      "Week                       int64\n",
      "dtypes: Int64(1), datetime64[ns](2), float64(5), int64(3), object(6)\n",
      "memory usage: 257.7+ MB\n"
     ]
    }
   ],
   "source": [
    "# Confirm features are proper type\n",
    "df.info();"
   ]
  },
  {
   "cell_type": "code",
   "execution_count": 12,
   "metadata": {
    "slideshow": {
     "slide_type": "skip"
    }
   },
   "outputs": [],
   "source": [
    "# Sort DataFrame by 'start_time' from January to December\n",
    "df = df.sort_values('start_time').reset_index(drop=True)"
   ]
  },
  {
   "cell_type": "markdown",
   "metadata": {
    "slideshow": {
     "slide_type": "skip"
    }
   },
   "source": [
    "**We'll add a 'distance_m' (i.e. distance in meters) column from the start station to end station. Pythons Geopy library can be used here by using the starting and ending coordinates provided in the dataset. Although this isn't the true path as it assumes a spherical model (shortest distance) between 2 geographical coordinates, it's still a good representation of distance traveled for this analysis.**"
   ]
  },
  {
   "cell_type": "code",
   "execution_count": 13,
   "metadata": {
    "slideshow": {
     "slide_type": "skip"
    }
   },
   "outputs": [
    {
     "data": {
      "text/html": [
       "<div>\n",
       "<style scoped>\n",
       "    .dataframe tbody tr th:only-of-type {\n",
       "        vertical-align: middle;\n",
       "    }\n",
       "\n",
       "    .dataframe tbody tr th {\n",
       "        vertical-align: top;\n",
       "    }\n",
       "\n",
       "    .dataframe thead th {\n",
       "        text-align: right;\n",
       "    }\n",
       "</style>\n",
       "<table border=\"1\" class=\"dataframe\">\n",
       "  <thead>\n",
       "    <tr style=\"text-align: right;\">\n",
       "      <th></th>\n",
       "      <th>duration_sec</th>\n",
       "      <th>start_time</th>\n",
       "      <th>end_time</th>\n",
       "      <th>start_station_id</th>\n",
       "      <th>start_station_name</th>\n",
       "      <th>start_station_latitude</th>\n",
       "      <th>start_station_longitude</th>\n",
       "      <th>end_station_id</th>\n",
       "      <th>end_station_name</th>\n",
       "      <th>end_station_latitude</th>\n",
       "      <th>end_station_longitude</th>\n",
       "      <th>bike_id</th>\n",
       "      <th>user_type</th>\n",
       "      <th>member_birth_year</th>\n",
       "      <th>member_gender</th>\n",
       "      <th>bike_share_for_all_trip</th>\n",
       "      <th>Week</th>\n",
       "      <th>distance_m</th>\n",
       "    </tr>\n",
       "  </thead>\n",
       "  <tbody>\n",
       "    <tr>\n",
       "      <th>0</th>\n",
       "      <td>13709</td>\n",
       "      <td>2018-01-01 00:01:00</td>\n",
       "      <td>2018-01-01 03:50:00</td>\n",
       "      <td>86.0</td>\n",
       "      <td>Market St at Dolores St</td>\n",
       "      <td>37.769305</td>\n",
       "      <td>-122.426826</td>\n",
       "      <td>119</td>\n",
       "      <td>18th St at Noe St</td>\n",
       "      <td>37.761047</td>\n",
       "      <td>-122.432642</td>\n",
       "      <td>2924</td>\n",
       "      <td>Customer</td>\n",
       "      <td>NaN</td>\n",
       "      <td>NaN</td>\n",
       "      <td>No</td>\n",
       "      <td>1</td>\n",
       "      <td>1050.127516</td>\n",
       "    </tr>\n",
       "    <tr>\n",
       "      <th>1</th>\n",
       "      <td>145</td>\n",
       "      <td>2018-01-01 00:07:00</td>\n",
       "      <td>2018-01-01 00:10:00</td>\n",
       "      <td>316.0</td>\n",
       "      <td>San Salvador St at 1st St</td>\n",
       "      <td>37.330165</td>\n",
       "      <td>-121.885831</td>\n",
       "      <td>311</td>\n",
       "      <td>Paseo De San Antonio at 2nd St</td>\n",
       "      <td>37.333798</td>\n",
       "      <td>-121.886943</td>\n",
       "      <td>2473</td>\n",
       "      <td>Subscriber</td>\n",
       "      <td>1957</td>\n",
       "      <td>Male</td>\n",
       "      <td>No</td>\n",
       "      <td>1</td>\n",
       "      <td>415.073133</td>\n",
       "    </tr>\n",
       "    <tr>\n",
       "      <th>2</th>\n",
       "      <td>714</td>\n",
       "      <td>2018-01-01 00:07:00</td>\n",
       "      <td>2018-01-01 00:19:00</td>\n",
       "      <td>74.0</td>\n",
       "      <td>Laguna St at Hayes St</td>\n",
       "      <td>37.776435</td>\n",
       "      <td>-122.426244</td>\n",
       "      <td>70</td>\n",
       "      <td>Central Ave at Fell St</td>\n",
       "      <td>37.773311</td>\n",
       "      <td>-122.444293</td>\n",
       "      <td>2423</td>\n",
       "      <td>Subscriber</td>\n",
       "      <td>1986</td>\n",
       "      <td>Male</td>\n",
       "      <td>No</td>\n",
       "      <td>1</td>\n",
       "      <td>1627.451990</td>\n",
       "    </tr>\n",
       "  </tbody>\n",
       "</table>\n",
       "</div>"
      ],
      "text/plain": [
       "   duration_sec          start_time            end_time  start_station_id  \\\n",
       "0         13709 2018-01-01 00:01:00 2018-01-01 03:50:00              86.0   \n",
       "1           145 2018-01-01 00:07:00 2018-01-01 00:10:00             316.0   \n",
       "2           714 2018-01-01 00:07:00 2018-01-01 00:19:00              74.0   \n",
       "\n",
       "          start_station_name  start_station_latitude  start_station_longitude  \\\n",
       "0    Market St at Dolores St               37.769305              -122.426826   \n",
       "1  San Salvador St at 1st St               37.330165              -121.885831   \n",
       "2      Laguna St at Hayes St               37.776435              -122.426244   \n",
       "\n",
       "  end_station_id                end_station_name  end_station_latitude  \\\n",
       "0            119               18th St at Noe St             37.761047   \n",
       "1            311  Paseo De San Antonio at 2nd St             37.333798   \n",
       "2             70          Central Ave at Fell St             37.773311   \n",
       "\n",
       "   end_station_longitude  bike_id   user_type  member_birth_year  \\\n",
       "0            -122.432642     2924    Customer                NaN   \n",
       "1            -121.886943     2473  Subscriber               1957   \n",
       "2            -122.444293     2423  Subscriber               1986   \n",
       "\n",
       "  member_gender bike_share_for_all_trip  Week   distance_m  \n",
       "0           NaN                      No     1  1050.127516  \n",
       "1          Male                      No     1   415.073133  \n",
       "2          Male                      No     1  1627.451990  "
      ]
     },
     "execution_count": 13,
     "metadata": {},
     "output_type": "execute_result"
    }
   ],
   "source": [
    "# function to calculate distance between 2 geographical coordinates\n",
    "def distance_func (x):\n",
    "    start = (x['start_station_latitude'], x['start_station_longitude'])\n",
    "    end = (x['end_station_latitude'], x['end_station_longitude'])\n",
    "\n",
    "    return geodesic(start, end).meters\n",
    "\n",
    "df['distance_m'] = df.apply (lambda x: distance_func(x),axis=1)\n",
    "df.head(3)"
   ]
  },
  {
   "cell_type": "markdown",
   "metadata": {
    "slideshow": {
     "slide_type": "slide"
    }
   },
   "source": [
    "<a id='EDA1'></a>\n",
    "### Explanatory Data Analysis"
   ]
  },
  {
   "cell_type": "markdown",
   "metadata": {
    "slideshow": {
     "slide_type": "slide"
    }
   },
   "source": [
    "**The significance of the null data is assessed.**\n",
    "\n",
    "**First, the Bike ID's are examined. The bar chart shows null values are highly concentrated in the 4100-4400 region.**\n",
    "\n",
    "**A percentage of null values per week is calculated in the second plot. Null values increase dramatically from week 24 to 46. Although the number of trips starting at week 24 are more than double compared to the beginning of the year, as seen from the countplot, this still does not explain the rise of null values in the data.**\n",
    "\n",
    "**The plots could suggest a product failure i.e. a bad manufacturing batch since the data is concentrated, a possible software glitch, or maybe an issue with the geo-tracking system. Whatever the case, since null values don't define any critical feature, we'll leave these rows in.**"
   ]
  },
  {
   "cell_type": "code",
   "execution_count": 14,
   "metadata": {
    "scrolled": false,
    "slideshow": {
     "slide_type": "subslide"
    }
   },
   "outputs": [
    {
     "data": {
      "image/png": "[encoded data removed]",
      "text/plain": [
       "<Figure size 841.68x595.44 with 1 Axes>"
      ]
     },
     "metadata": {
      "needs_background": "light"
     },
     "output_type": "display_data"
    }
   ],
   "source": [
    "# Number of null values for every Bike ID\n",
    "bike = df.groupby('bike_id')['start_station_id'].apply(lambda x: x.isnull().sum()).sort_values(ascending=False)\n",
    "\n",
    "# Examine relationship between null values and Bike ID\n",
    "base_color = sb.color_palette()[0]\n",
    "plt.figure(figsize=[11.69, 8.27])\n",
    "plt.bar(x = bike.index, height=bike.values, color = base_color);\n",
    "plt.xlabel('Bike ID')\n",
    "plt.ylabel('Number of Nulls')\n",
    "plt.title('Number of Null Values Per Bike ID');"
   ]
  },
  {
   "cell_type": "code",
   "execution_count": 15,
   "metadata": {
    "scrolled": false,
    "slideshow": {
     "slide_type": "subslide"
    }
   },
   "outputs": [
    {
     "data": {
      "image/png": "[encoded data removed]",
      "text/plain": [
       "<Figure size 1411.2x482.4 with 2 Axes>"
      ]
     },
     "metadata": {
      "needs_background": "light"
     },
     "output_type": "display_data"
    }
   ],
   "source": [
    "# Percentage of null values per week\n",
    "null_perc = (df.groupby('Week').apply(lambda x: x.isnull().sum()).start_station_id) \\\n",
    "/(df['Week'].value_counts().sort_index())\n",
    "\n",
    "plt.figure(figsize = [19.6, 6.7])\n",
    "labels = [0,5,10,15,20,25,30,35,40,45,50]\n",
    "xticks = np.arange(np.arange(df['Week'].min())-1, max(df['Week']), 5)\n",
    "\n",
    "# Plot of Percentage of Nulls by Week\n",
    "plt.subplot(1, 2, 1)\n",
    "ax1 = sb.barplot(x = null_perc.index.values, y = null_perc.values * 100, color = base_color);\n",
    "plt.xticks(xticks,labels)\n",
    "plt.title('% of Null Values Per Week')\n",
    "ax1.set(xlabel='Week', ylabel='Percent of Null Values (%)')\n",
    "ax1.spines['right'].set_visible(False)\n",
    "ax1.spines['top'].set_visible(False)\n",
    "\n",
    "# Plot of Trip Counts by Week\n",
    "plt.subplot(1, 2, 2)\n",
    "ax2 = sb.countplot(x=\"Week\", data=df, color = base_color)\n",
    "plt.xticks(xticks,labels)\n",
    "plt.title('Weekly Trip Counts')\n",
    "ax2.set(xlabel='Week', ylabel='Trip Count')\n",
    "ax2.spines['right'].set_visible(False)\n",
    "ax2.spines['top'].set_visible(False);"
   ]
  },
  {
   "cell_type": "code",
   "execution_count": 17,
   "metadata": {
    "slideshow": {
     "slide_type": "skip"
    }
   },
   "outputs": [
    {
     "data": {
      "text/html": [
       "<div>\n",
       "<style scoped>\n",
       "    .dataframe tbody tr th:only-of-type {\n",
       "        vertical-align: middle;\n",
       "    }\n",
       "\n",
       "    .dataframe tbody tr th {\n",
       "        vertical-align: top;\n",
       "    }\n",
       "\n",
       "    .dataframe thead th {\n",
       "        text-align: right;\n",
       "    }\n",
       "</style>\n",
       "<table border=\"1\" class=\"dataframe\">\n",
       "  <thead>\n",
       "    <tr style=\"text-align: right;\">\n",
       "      <th></th>\n",
       "      <th>duration_sec</th>\n",
       "      <th>start_time</th>\n",
       "      <th>end_time</th>\n",
       "      <th>start_station_id</th>\n",
       "      <th>start_station_name</th>\n",
       "      <th>end_station_name</th>\n",
       "      <th>user_type</th>\n",
       "      <th>member_gender</th>\n",
       "      <th>bike_share_for_all_trip</th>\n",
       "      <th>Week</th>\n",
       "      <th>distance_m</th>\n",
       "      <th>Age</th>\n",
       "    </tr>\n",
       "  </thead>\n",
       "  <tbody>\n",
       "    <tr>\n",
       "      <th>0</th>\n",
       "      <td>13709</td>\n",
       "      <td>2018-01-01 00:01:00</td>\n",
       "      <td>2018-01-01 03:50:00</td>\n",
       "      <td>86.0</td>\n",
       "      <td>Market St at Dolores St</td>\n",
       "      <td>18th St at Noe St</td>\n",
       "      <td>Customer</td>\n",
       "      <td>NaN</td>\n",
       "      <td>No</td>\n",
       "      <td>1</td>\n",
       "      <td>1050.127516</td>\n",
       "      <td>NaN</td>\n",
       "    </tr>\n",
       "    <tr>\n",
       "      <th>1</th>\n",
       "      <td>145</td>\n",
       "      <td>2018-01-01 00:07:00</td>\n",
       "      <td>2018-01-01 00:10:00</td>\n",
       "      <td>316.0</td>\n",
       "      <td>San Salvador St at 1st St</td>\n",
       "      <td>Paseo De San Antonio at 2nd St</td>\n",
       "      <td>Subscriber</td>\n",
       "      <td>Male</td>\n",
       "      <td>No</td>\n",
       "      <td>1</td>\n",
       "      <td>415.073133</td>\n",
       "      <td>61</td>\n",
       "    </tr>\n",
       "    <tr>\n",
       "      <th>2</th>\n",
       "      <td>714</td>\n",
       "      <td>2018-01-01 00:07:00</td>\n",
       "      <td>2018-01-01 00:19:00</td>\n",
       "      <td>74.0</td>\n",
       "      <td>Laguna St at Hayes St</td>\n",
       "      <td>Central Ave at Fell St</td>\n",
       "      <td>Subscriber</td>\n",
       "      <td>Male</td>\n",
       "      <td>No</td>\n",
       "      <td>1</td>\n",
       "      <td>1627.451990</td>\n",
       "      <td>32</td>\n",
       "    </tr>\n",
       "    <tr>\n",
       "      <th>3</th>\n",
       "      <td>1151</td>\n",
       "      <td>2018-01-01 00:09:00</td>\n",
       "      <td>2018-01-01 00:28:00</td>\n",
       "      <td>97.0</td>\n",
       "      <td>14th St at Mission St</td>\n",
       "      <td>20th St at Bryant St</td>\n",
       "      <td>Subscriber</td>\n",
       "      <td>Male</td>\n",
       "      <td>No</td>\n",
       "      <td>1</td>\n",
       "      <td>1352.512847</td>\n",
       "      <td>26</td>\n",
       "    </tr>\n",
       "    <tr>\n",
       "      <th>4</th>\n",
       "      <td>1359</td>\n",
       "      <td>2018-01-01 00:14:00</td>\n",
       "      <td>2018-01-01 00:37:00</td>\n",
       "      <td>11.0</td>\n",
       "      <td>Davis St at Jackson St</td>\n",
       "      <td>Broadway at Kearny</td>\n",
       "      <td>Customer</td>\n",
       "      <td>Male</td>\n",
       "      <td>No</td>\n",
       "      <td>1</td>\n",
       "      <td>666.808263</td>\n",
       "      <td>23</td>\n",
       "    </tr>\n",
       "  </tbody>\n",
       "</table>\n",
       "</div>"
      ],
      "text/plain": [
       "   duration_sec          start_time            end_time  start_station_id  \\\n",
       "0         13709 2018-01-01 00:01:00 2018-01-01 03:50:00              86.0   \n",
       "1           145 2018-01-01 00:07:00 2018-01-01 00:10:00             316.0   \n",
       "2           714 2018-01-01 00:07:00 2018-01-01 00:19:00              74.0   \n",
       "3          1151 2018-01-01 00:09:00 2018-01-01 00:28:00              97.0   \n",
       "4          1359 2018-01-01 00:14:00 2018-01-01 00:37:00              11.0   \n",
       "\n",
       "          start_station_name                end_station_name   user_type  \\\n",
       "0    Market St at Dolores St               18th St at Noe St    Customer   \n",
       "1  San Salvador St at 1st St  Paseo De San Antonio at 2nd St  Subscriber   \n",
       "2      Laguna St at Hayes St          Central Ave at Fell St  Subscriber   \n",
       "3      14th St at Mission St            20th St at Bryant St  Subscriber   \n",
       "4     Davis St at Jackson St              Broadway at Kearny    Customer   \n",
       "\n",
       "  member_gender bike_share_for_all_trip  Week   distance_m  Age  \n",
       "0           NaN                      No     1  1050.127516  NaN  \n",
       "1          Male                      No     1   415.073133   61  \n",
       "2          Male                      No     1  1627.451990   32  \n",
       "3          Male                      No     1  1352.512847   26  \n",
       "4          Male                      No     1   666.808263   23  "
      ]
     },
     "execution_count": 17,
     "metadata": {},
     "output_type": "execute_result"
    }
   ],
   "source": [
    "# Calculate Age of Users\n",
    "df['Age'] = 2018 - df['member_birth_year']\n",
    "\n",
    "# Create Master DataFrame by dropping unecessary columns - Cleaning\n",
    "df.drop(columns = ['bike_id','end_station_latitude','end_station_longitude',\n",
    "                    'end_station_id','start_station_latitude','start_station_longitude',\n",
    "                    'member_birth_year'], inplace=True);\n",
    "df.head()"
   ]
  },
  {
   "cell_type": "markdown",
   "metadata": {
    "slideshow": {
     "slide_type": "slide"
    }
   },
   "source": [
    "#### Univariate Relationships\n",
    "**The following univariate relationships will be examined: distribution of trip duration in time (s), distance of the trips (m), top 10 starting locations, top 10 destinations, user type distribution, bike share for all trip distribution, and the user age to determine which age ranges are most likely to use the product.**"
   ]
  },
  {
   "cell_type": "markdown",
   "metadata": {
    "slideshow": {
     "slide_type": "subslide"
    }
   },
   "source": [
    "**Binning reveals the data is highly skewed to the right. A log transform can be used to reduce the skeweness of the data.**"
   ]
  },
  {
   "cell_type": "code",
   "execution_count": 18,
   "metadata": {
    "slideshow": {
     "slide_type": "notes"
    }
   },
   "outputs": [
    {
     "data": {
      "text/plain": [
       "(0, 500]          816215\n",
       "(500, 1000]       694002\n",
       "(1000, 2000]      276197\n",
       "(2000, 3000]       37573\n",
       "(5000, 10000]      12211\n",
       "(3000, 4000]       11833\n",
       "(4000, 5000]        6775\n",
       "(10000, 20000]      5157\n",
       "(20000, 40000]      1872\n",
       "(40000, 60000]       950\n",
       "(60000, 90000]       936\n",
       "Name: duration_sec, dtype: int64"
      ]
     },
     "execution_count": 18,
     "metadata": {},
     "output_type": "execute_result"
    }
   ],
   "source": [
    "# Distribution of trip durations\n",
    "bins_sec = [0, 500, 1000, 2000, 3000, 4000, 5000, 10000, 20000, 40000, 60000, 90000]\n",
    "sec_bin = pd.cut(df['duration_sec'], bins_sec)\n",
    "sec_bin.value_counts()"
   ]
  },
  {
   "cell_type": "code",
   "execution_count": 19,
   "metadata": {
    "scrolled": false,
    "slideshow": {
     "slide_type": "subslide"
    }
   },
   "outputs": [
    {
     "data": {
      "image/png": "[encoded data removed]",
      "text/plain": [
       "<Figure size 1411.2x482.4 with 2 Axes>"
      ]
     },
     "metadata": {
      "needs_background": "light"
     },
     "output_type": "display_data"
    }
   ],
   "source": [
    "# Histograms of duration and distance of trips - log transformation of the x-scale\n",
    "np.log10(df['duration_sec'].describe());\n",
    "df['distance_m'].describe()\n",
    "\n",
    "bin_size = 0.05\n",
    "bins = 10**np.arange(1.5, 5+bin_size, bin_size)\n",
    "ticks = [100, 200, 400, 600, 800, 1000, 1500, 2000, 4000, 6000, 10000, 20000, 40000, 60000, 90000]\n",
    "ticks_distance = [250, 500, 1000, 1500, 2000, 3000, 4000, 6000]\n",
    "labels = ['{}'.format(val) for val in ticks]\n",
    "\n",
    "plt.figure(figsize = [19.6, 6.7])\n",
    "plt.subplot(1, 2, 1)\n",
    "plt.hist(data = df, x = 'duration_sec', bins = bins)\n",
    "plt.ylabel('Trip Count')\n",
    "plt.xscale('log')\n",
    "plt.xticks(ticks, labels, rotation = 'vertical')\n",
    "plt.xlabel('Trip Duration (sec)')\n",
    "plt.axvline(x=df.duration_sec.mean(), color='r') # Vertical Mean Line\n",
    "\n",
    "plt.subplot(1, 2, 2)\n",
    "bins1 = np.arange(0, 6000+50, 50)\n",
    "plt.hist(data = df.query('0 < distance_m <= 10000'), x = 'distance_m', bins = bins1)\n",
    "plt.xscale('log')\n",
    "plt.xticks(ticks_distance, ticks_distance, rotation = 'vertical')\n",
    "plt.ylabel('Trip Count')\n",
    "plt.xlabel('Trip Distance (meters)')\n",
    "plt.suptitle('Trip Duration Distribution', fontsize=20);\n",
    "plt.axvline(x=df.query('0 < distance_m <= 10000')['distance_m'].mean(), color='r'); # Vertical Mean Line"
   ]
  },
  {
   "cell_type": "markdown",
   "metadata": {
    "slideshow": {
     "slide_type": "skip"
    }
   },
   "source": [
    "**The starting and ending locations are very similar. This could point to many customers using the service as a means to travel to work i.e going back and forth between 2 locations. The Top 3 locations are the same: Harry Bridges Plaza, Townsend St. at 4th St. (Station 2), and Townsend St. at 4th St.**"
   ]
  },
  {
   "cell_type": "code",
   "execution_count": 20,
   "metadata": {
    "slideshow": {
     "slide_type": "skip"
    }
   },
   "outputs": [
    {
     "data": {
      "text/plain": [
       "San Francisco Ferry Building (Harry Bridges Plaza)           38461\n",
       "San Francisco Caltrain Station 2  (Townsend St at 4th St)    37617\n",
       "San Francisco Caltrain (Townsend St at 4th St)               35092\n",
       "Market St at 10th St                                         34918\n",
       "Berry St at 4th St                                           33716\n",
       "The Embarcadero at Sansome St                                33390\n",
       "Montgomery St BART Station (Market St at 2nd St)             32131\n",
       "Powell St BART Station (Market St at 4th St)                 31656\n",
       "Steuart St at Market St                                      28367\n",
       "Howard St at Beale St                                        26535\n",
       "Name: start_station_name, dtype: int64"
      ]
     },
     "execution_count": 20,
     "metadata": {},
     "output_type": "execute_result"
    }
   ],
   "source": [
    "df['start_station_name'].value_counts().nlargest(10)"
   ]
  },
  {
   "cell_type": "code",
   "execution_count": 21,
   "metadata": {
    "slideshow": {
     "slide_type": "skip"
    }
   },
   "outputs": [
    {
     "data": {
      "text/plain": [
       "San Francisco Caltrain Station 2  (Townsend St at 4th St)    50000\n",
       "San Francisco Ferry Building (Harry Bridges Plaza)           44113\n",
       "San Francisco Caltrain (Townsend St at 4th St)               42970\n",
       "The Embarcadero at Sansome St                                39222\n",
       "Montgomery St BART Station (Market St at 2nd St)             35955\n",
       "Market St at 10th St                                         34365\n",
       "Powell St BART Station (Market St at 4th St)                 33086\n",
       "Berry St at 4th St                                           32786\n",
       "Steuart St at Market St                                      28592\n",
       "Powell St BART Station (Market St at 5th St)                 26002\n",
       "Name: end_station_name, dtype: int64"
      ]
     },
     "execution_count": 21,
     "metadata": {},
     "output_type": "execute_result"
    }
   ],
   "source": [
    "df['end_station_name'].value_counts().nlargest(10)"
   ]
  },
  {
   "cell_type": "markdown",
   "metadata": {
    "slideshow": {
     "slide_type": "skip"
    }
   },
   "source": [
    "**Interestingly enough, most service users are actually subscribers. This acutally makes sense when considering this service markets itself as an alternative means of public transportation (especially to lower income areas) like public transit/bus.**"
   ]
  },
  {
   "cell_type": "code",
   "execution_count": 22,
   "metadata": {
    "slideshow": {
     "slide_type": "skip"
    }
   },
   "outputs": [
    {
     "data": {
      "text/plain": [
       "Subscriber    1583554\n",
       "Customer       280167\n",
       "Name: user_type, dtype: int64"
      ]
     },
     "execution_count": 22,
     "metadata": {},
     "output_type": "execute_result"
    }
   ],
   "source": [
    "df['user_type'].value_counts()"
   ]
  },
  {
   "cell_type": "code",
   "execution_count": 23,
   "metadata": {
    "slideshow": {
     "slide_type": "skip"
    }
   },
   "outputs": [
    {
     "data": {
      "text/plain": [
       "No     1701386\n",
       "Yes     162335\n",
       "Name: bike_share_for_all_trip, dtype: int64"
      ]
     },
     "execution_count": 23,
     "metadata": {},
     "output_type": "execute_result"
    }
   ],
   "source": [
    "df['bike_share_for_all_trip'].value_counts()"
   ]
  },
  {
   "cell_type": "markdown",
   "metadata": {
    "slideshow": {
     "slide_type": "subslide"
    }
   },
   "source": [
    "**The start time distribution is explored below. The data was separated into hourly bins for simplicity. Peak times are at 8:00 AM and 5:00 PM (rush hour times).**"
   ]
  },
  {
   "cell_type": "code",
   "execution_count": 24,
   "metadata": {
    "slideshow": {
     "slide_type": "subslide"
    }
   },
   "outputs": [
    {
     "data": {
      "image/png": "[encoded data removed]",
      "text/plain": [
       "<Figure size 841.68x595.44 with 1 Axes>"
      ]
     },
     "metadata": {
      "needs_background": "light"
     },
     "output_type": "display_data"
    }
   ],
   "source": [
    "df['start_time_hour'] = df['start_time'].dt.hour\n",
    "\n",
    "time_labels = ['12AM','1AM','2AM','3AM','4AM','5AM','6AM','7AM','8AM','9AM','10AM','11AM','12PM',\n",
    "              '1PM','2PM','3PM','4PM','5PM','6PM','7PM','8PM','9PM','10PM','11PM']\n",
    "\n",
    "plt.figure(figsize=[11.69, 8.27])\n",
    "time_xticks = np.arange(0, 24, 1)\n",
    "\n",
    "plt.bar(x = df['start_time_hour'].value_counts().index, height = df['start_time_hour'].value_counts().values)\n",
    "plt.title('Start Time Distribution', pad=13)\n",
    "plt.xlabel('Start Time', labelpad=13)\n",
    "plt.ylabel('Trip Count', labelpad=13)\n",
    "plt.xticks(time_xticks,time_labels, rotation = 45);"
   ]
  },
  {
   "cell_type": "markdown",
   "metadata": {
    "slideshow": {
     "slide_type": "subslide"
    }
   },
   "source": [
    "**Age is queried for 2 reasons. Very few data points actually exist for user ages greater than 75. This removes noise from the plot. Also, some age's exist in the dataset that are likely unrealistic or incorrect. Chances are, senior citizens older than 120 or let alone 100 would not be using this service. Possible explanation could be the customer entered in the birth year incorrectly.**"
   ]
  },
  {
   "cell_type": "code",
   "execution_count": 25,
   "metadata": {
    "slideshow": {
     "slide_type": "skip"
    }
   },
   "outputs": [
    {
     "data": {
      "text/plain": [
       "118    632\n",
       "107    262\n",
       "116    169\n",
       "117     29\n",
       "130     23\n",
       "104     18\n",
       "114     12\n",
       "137      5\n",
       "109      4\n",
       "129      3\n",
       "112      2\n",
       "115      1\n",
       "Name: Age, dtype: int64"
      ]
     },
     "execution_count": 25,
     "metadata": {},
     "output_type": "execute_result"
    }
   ],
   "source": [
    "# Examine Ages of customers 'older' than 100\n",
    "senior_age = df.dropna(axis=0, subset=['Age']).reset_index(drop=True)\n",
    "senior_age['Age'] = senior_age.Age.astype(int)\n",
    "senior_age.query('Age >= 100')['Age'].value_counts()"
   ]
  },
  {
   "cell_type": "code",
   "execution_count": 26,
   "metadata": {
    "scrolled": false,
    "slideshow": {
     "slide_type": "subslide"
    }
   },
   "outputs": [
    {
     "data": {
      "image/png": "[encoded data removed]",
      "text/plain": [
       "<Figure size 841.68x595.44 with 1 Axes>"
      ]
     },
     "metadata": {
      "needs_background": "light"
     },
     "output_type": "display_data"
    }
   ],
   "source": [
    "# View 'Age' column stats to determine appropriate plot parameters\n",
    "df['Age'].describe();\n",
    "\n",
    "# Drop null values for analysis (No Effect on results), Filter Ages less than 75\n",
    "Age_hist = df.dropna(axis=0, subset=['Age']).reset_index(drop=True)\n",
    "Age_hist.Age = Age_hist.Age.astype(int)\n",
    "Age_hist = Age_hist.query('Age <= 75')\n",
    "\n",
    "# Line Plot\n",
    "base_color1 = sb.color_palette('Set1')[0]\n",
    "plt.figure(figsize=[11.69, 8.27])\n",
    "labels1 = range(18,75,2)\n",
    "xticks1 = np.arange(18, 76, 2)\n",
    "ax3 = sb.lineplot(x= Age_hist['Age'].value_counts().index, y = Age_hist['Age'].value_counts().values, color = base_color1)\n",
    "ax3.set(xlabel='Age', ylabel='Ride Count')\n",
    "plt.xticks(xticks1,labels1, rotation = 'vertical')\n",
    "plt.xlim((18,76))\n",
    "plt.title('Age Distribution');"
   ]
  },
  {
   "cell_type": "markdown",
   "metadata": {
    "slideshow": {
     "slide_type": "slide"
    }
   },
   "source": [
    "**Bivariate Relationships**\n",
    "\n",
    "**First, we'll investigate how the Ford's Go-Bike membership program (bike share for all) relates to the duration of the ride. It's important to note that according to the fordgobike website, membership includes first 60 minutes of each trip. Rides longer than 60 minutes result in additional fees of 3 dollars for each additional 15 minutes or potential account suspension.**\n",
    "\n",
    "**Second, we'll take a look at male/female distribution among user types to determine if one gender uses the Bike Share For All program more than the other.**"
   ]
  },
  {
   "cell_type": "code",
   "execution_count": 27,
   "metadata": {
    "slideshow": {
     "slide_type": "skip"
    }
   },
   "outputs": [],
   "source": [
    "# Function to log transform 'x' values.\n",
    "def log_trans(x, inverse = False):\n",
    "    if not inverse:\n",
    "        return np.log10(x)\n",
    "    else:\n",
    "        return np.power(10, x)"
   ]
  },
  {
   "cell_type": "markdown",
   "metadata": {
    "slideshow": {
     "slide_type": "subslide"
    }
   },
   "source": [
    "**We can see by the violin plot that 3.0% and 1.2% of Bike Share For All trips lasted over 45 min and 60 min, respectively, meaning some program member incurred either an extra fee or possible account suspension. Reducing the alotted time for a ride, to say 45 min, before a fee could be considered, atleast for A/B testing.**"
   ]
  },
  {
   "cell_type": "code",
   "execution_count": 28,
   "metadata": {
    "scrolled": false,
    "slideshow": {
     "slide_type": "subslide"
    }
   },
   "outputs": [
    {
     "name": "stdout",
     "output_type": "stream",
     "text": [
      "Percentage of Bike Share For All rides that lasted more than 45 min (Green Line) = 3.0578741491360457\n",
      "Percentage of Bike Share For All rides that lasted more than 60 min (Red Line) = 1.2270921243108388\n"
     ]
    },
    {
     "data": {
      "image/png": "[encoded data removed]",
      "text/plain": [
       "<Figure size 1411.2x482.4 with 2 Axes>"
      ]
     },
     "metadata": {
      "needs_background": "light"
     },
     "output_type": "display_data"
    }
   ],
   "source": [
    "# Duration vs Membership Program\n",
    "plt.figure(figsize = [19.6, 6.7])\n",
    "ticks = [100, 200, 400, 600, 1000, 1500, 2000, 4000, 6000, 10000, 20000, 40000, 60000, 90000]\n",
    "\n",
    "# left plot: box plot of complete data\n",
    "plt.subplot(1, 2, 1)\n",
    "sb.boxplot(x = df['bike_share_for_all_trip'], y = df['duration_sec'].apply(log_trans), color = base_color)\n",
    "plt.yticks(log_trans(ticks), ticks);\n",
    "plt.xlabel('Bike Share For All Program Trip')\n",
    "plt.ylabel('Duration (s)')\n",
    "plt.title('Bike Share For All Trip Durations')\n",
    "\n",
    "# right plot: violin plot filtering outliers from previous boxplot\n",
    "plt.subplot(1, 2, 2)\n",
    "ax5 = sb.violinplot(x = df['bike_share_for_all_trip'], y = df['duration_sec'].apply(log_trans), color = base_color,\n",
    "                   inner = None)\n",
    "plt.yticks(log_trans(ticks), ticks)\n",
    "plt.ylim((1.6,3.7))\n",
    "plt.xlabel('Bike Share For All Program Trip')\n",
    "plt.ylabel('Duration (s)')\n",
    "plt.title('Bike Share For All Trip Durations')\n",
    "\n",
    "ax5.axhline(y=np.log10(3600), color='r') # Horizontal Line at 60 minutes\n",
    "ax5.axhline(y=np.log10(2700), color='g'); # Horizontal Line at 45 minutes\n",
    "\n",
    "# Calculate % of trips where Program Members ride for more than 45 min & 60 minutes\n",
    "print(\"Percentage of Bike Share For All rides that lasted more than 45 min (Green Line) =\",\n",
    "      df.query(\"bike_share_for_all_trip == 'Yes' & duration_sec >=2700\").shape[0]*100 /\\\n",
    "df.query(\"bike_share_for_all_trip == 'Yes'\").shape[0])\n",
    "\n",
    "print(\"Percentage of Bike Share For All rides that lasted more than 60 min (Red Line) =\",\n",
    "      df.query(\"bike_share_for_all_trip == 'Yes' & duration_sec >=3600\").shape[0]*100 /\\\n",
    "df.query(\"bike_share_for_all_trip == 'Yes'\").shape[0])"
   ]
  },
  {
   "cell_type": "markdown",
   "metadata": {
    "slideshow": {
     "slide_type": "skip"
    }
   },
   "source": [
    "**The clustered bar plot reveals that Ford Go Bike has a much larger male user base than female/other user base, especially those who subscribe to the service. Female customers could be a key demographic for Ford Go-Bike to target.**"
   ]
  },
  {
   "cell_type": "code",
   "execution_count": 29,
   "metadata": {
    "scrolled": false,
    "slideshow": {
     "slide_type": "subslide"
    }
   },
   "outputs": [
    {
     "data": {
      "image/png": "[encoded data removed]",
      "text/plain": [
       "<Figure size 841.68x595.44 with 1 Axes>"
      ]
     },
     "metadata": {
      "needs_background": "light"
     },
     "output_type": "display_data"
    }
   ],
   "source": [
    "# Log Transform performed on y-scale\n",
    "gender = df.dropna(axis=0, subset=['member_gender']).reset_index(drop=True)\n",
    "ticks2 = [1000, 5000, 10000, 50000, 100000, 250000, 500000, 750000, 2000000]\n",
    "\n",
    "# Countplot\n",
    "plt.figure(figsize=[11.69, 8.27])\n",
    "ax5 = sb.countplot(data = gender, x = 'user_type', hue = 'member_gender', palette = 'Set2', alpha = 1)\n",
    "ax5.legend(loc = 1, ncol = 1, framealpha = 1, title = 'Member Gender')\n",
    "ax5.spines['right'].set_visible(False)\n",
    "ax5.spines['top'].set_visible(False)\n",
    "\n",
    "plt.yscale('log')\n",
    "plt.yticks(ticks2, None)\n",
    "ax5.yaxis.set_major_locator(plt.NullLocator())\n",
    "plt.ylabel('Trip Count')\n",
    "plt.xlabel(None)\n",
    "plt.title('User Type and Gender Evaluation')\n",
    "rcParams['axes.titlepad'] = 15\n",
    "\n",
    "# Add values to bars\n",
    "for p in ax5.patches[0:]:\n",
    "    h = p.get_height()\n",
    "    x = p.get_x()+p.get_width()/2.\n",
    "    if h != 0:\n",
    "        ax5.annotate(\"%g\" % p.get_height(), xy=(x,h), xytext=(0,4), \n",
    "                     textcoords=\"offset points\", ha=\"center\", va=\"bottom\")"
   ]
  },
  {
   "cell_type": "markdown",
   "metadata": {
    "slideshow": {
     "slide_type": "slide"
    }
   },
   "source": [
    "**Multivariate Relationship**\n",
    "\n",
    "**The top 10 starting locations are examined using a heat map. There are a few interesting insights here. Although the majority of rides are in fact made during the day and afternoon, the longest rides in terms of duration are late at night interestingly enough. Customers traveling from Embarcadero at Sansome St. are traveling much longer compared to other locations. The shortest trip average observed is at the San Francisco Caltrain.**"
   ]
  },
  {
   "cell_type": "code",
   "execution_count": 30,
   "metadata": {
    "slideshow": {
     "slide_type": "subslide"
    }
   },
   "outputs": [
    {
     "name": "stdout",
     "output_type": "stream",
     "text": [
      "Number of Rides By Time of Day \n",
      " 3PM-6PM     83472\n",
      "6AM-9AM     75770\n",
      "9AM-12PM    63909\n",
      "6PM-9PM     57517\n",
      "12PM-3PM    38297\n",
      "9PM-12AM    10485\n",
      "12AM-3AM     1380\n",
      "3AM-6AM      1053\n",
      "Name: session, dtype: int64\n"
     ]
    },
    {
     "data": {
      "image/png": "[encoded data removed]",
      "text/plain": [
       "<Figure size 841.68x595.44 with 2 Axes>"
      ]
     },
     "metadata": {
      "needs_background": "light"
     },
     "output_type": "display_data"
    }
   ],
   "source": [
    "# Create new column binning each start time to time of day\n",
    "multiv = df.copy()\n",
    "multiv = multiv.assign(session=pd.cut(multiv['start_time'].dt.hour, bins=8,\n",
    "                                      labels=['12AM-3AM','3AM-6AM','6AM-9AM','9AM-12PM','12PM-3PM','3PM-6PM','6PM-9PM','9PM-12AM']))\n",
    "\n",
    "# Filter dataframe based on top 10 list of start stations\n",
    "top_10 = df['start_station_name'].value_counts().nlargest(10).index.tolist()\n",
    "multiv = multiv[multiv['start_station_name'].isin(top_10)]\n",
    "\n",
    "# Calculate Categorical Mean for each group\n",
    "cat_means = multiv.groupby(['session', 'start_station_name']).mean()['duration_sec']\n",
    "cat_means = cat_means.reset_index(name = 'mean_duration')\n",
    "cat_means = cat_means.pivot(index = 'start_station_name', columns = 'session',\n",
    "                            values = 'mean_duration')\n",
    "\n",
    "# Plot Heatmap\n",
    "plt.figure(figsize=[11.69, 8.27])\n",
    "sb.heatmap(cat_means, annot = True, fmt = '.0f', cbar_kws = {'label' : ''})\n",
    "plt.xlabel(None)\n",
    "plt.ylabel(None)\n",
    "plt.title('Mean Trip Duration by Time of Day for Top 10 Start Locations')\n",
    "rcParams['axes.titlepad'] = 15;\n",
    "\n",
    "print('Number of Rides By Time of Day \\n', multiv.session.value_counts())"
   ]
  },
  {
   "cell_type": "markdown",
   "metadata": {
    "slideshow": {
     "slide_type": "slide"
    }
   },
   "source": [
    "<a id='Results'></a>\n",
    "### Results & Discussion\n",
    "\n",
    "**The analysis above is divided into the 3 sections: Univariate Relationships, Bivariate Relationships, and Multivariate Relationships.**\n",
    "\n",
    "**Distance, trip duration, and age are investigated in the univariate relationship section. All 3 of these variables follow a log-normal distribution. Accounting for outliers, the mean duration traveled is roughly 800 s with most trips lasting 650 s. The mean distance traveled is approximately 1600 m with a majority of trips lasting anywhere between 700-1500 m. Most users who have used the Ford Go-Bike service are young adults (late 20's to early 30's) with a steady drop off beginning at 33 years old.**\n",
    "\n",
    "**Next bivariate relationships between trip duration, trip type (Ford Go-Bikes Bike Share For All), membership, and user gender were examined. Bike Share For All trips are expected to level off at 60 min due to the fee for additional time over this time limit. This hypothesis is supported by the data as only 1.2% of bike share for all trips lasted over 60 min. Gender distribution among user types (Customer vs Subscriber) also revealed Ford Go-Bikes service is far more popular with males than females/other. Over 700,000 more trips were made by male subscribers vs female subscribers and over 70,000 trips more trips were made by male customers vs female customers.**\n"
   ]
  },
  {
   "cell_type": "markdown",
   "metadata": {
    "slideshow": {
     "slide_type": "subslide"
    }
   },
   "source": [
    "**The multivariate relationship analysis focus' on the top 10 starting locations (based on number of trips) and the length of the trips made from these locations at different time frames of the day. The heat map is fairly distributed but a few insights can be made. For one, the longest rides occur from 12AM - 3AM, but it's also important to note this group contains only 1,380 data points compared to 3PM-6PM time frames for instance, that contain over 80,000 data points. The shortest rides occur in the 6AM-9AM time frame, most likely users using the service to travel short distances to work. Further investigation also shows the longest rides are starting from the San Francisco Ferry Building.**"
   ]
  },
  {
   "cell_type": "markdown",
   "metadata": {
    "slideshow": {
     "slide_type": "slide"
    }
   },
   "source": [
    "<a id='Conclusion'></a>\n",
    "### Conclusion\n",
    "\n",
    "**The 2018 system data by Ford Go-Bike used in this analysis provided some useful insights into key features and relationships between age, user types, distance, trip duration, location, etc. The visualizations describe univariate, bivariate, and multivariate relationships between these key features. The analysis can be used for business solutions, product investigation, and marketing strategies. As long as the data structure is maintaned, this analysis can be repeated for any given month or span of months.**"
   ]
  },
  {
   "cell_type": "markdown",
   "metadata": {
    "slideshow": {
     "slide_type": "skip"
    }
   },
   "source": [
    "### Credit Sources: ###\n",
    "1. Udacity\n",
    "2. Stack Overflow"
   ]
  }
 ],
 "metadata": {
  "celltoolbar": "Slideshow",
  "kernelspec": {
   "display_name": "Python 3",
   "language": "python",
   "name": "python3"
  },
  "language_info": {
   "codemirror_mode": {
    "name": "ipython",
    "version": 3
   },
   "file_extension": ".py",
   "mimetype": "text/x-python",
   "name": "python",
   "nbconvert_exporter": "python",
   "pygments_lexer": "ipython3",
   "version": "3.6.8"
  }
 },
 "nbformat": 4,
 "nbformat_minor": 2
}
